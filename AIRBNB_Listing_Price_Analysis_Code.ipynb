{
  "nbformat": 4,
  "nbformat_minor": 0,
  "metadata": {
    "colab": {
      "name": "Spark_on_Colaboratory_lab2_listing_final(3).ipynb",
      "version": "0.3.2",
      "provenance": [],
      "collapsed_sections": [],
      "toc_visible": true
    },
    "kernelspec": {
      "name": "python3",
      "display_name": "Python 3"
    }
  },
  "cells": [
    {
      "cell_type": "markdown",
      "metadata": {
        "id": "kvD4HBMi0ohY",
        "colab_type": "text"
      },
      "source": [
        "# Install Java, Spark, and Findspark\n",
        "This installs Apache Spark 2.2.1, Java 8, and [Findspark](https://github.com/minrk/findspark), a library that makes it easy for Python to find Spark."
      ]
    },
    {
      "cell_type": "code",
      "metadata": {
        "id": "fUhBhrGmyAvs",
        "colab_type": "code",
        "colab": {}
      },
      "source": [
        "!apt-get install openjdk-8-jdk-headless -qq > /dev/null\n",
        "!wget -q https://www-eu.apache.org/dist/spark/spark-2.4.3/spark-2.4.3-bin-hadoop2.7.tgz \n",
        "!tar xvf spark-2.4.3-bin-hadoop2.7.tgz\n"
      ],
      "execution_count": 0,
      "outputs": []
    },
    {
      "cell_type": "markdown",
      "metadata": {
        "id": "b4Kjvk_h1AHl",
        "colab_type": "text"
      },
      "source": [
        "# Set Environment Variables\n",
        "Set the locations where Spark and Java are installed."
      ]
    },
    {
      "cell_type": "code",
      "metadata": {
        "id": "8Xnb_ePUyQIL",
        "colab_type": "code",
        "colab": {}
      },
      "source": [
        "import os\n",
        "os.environ[\"JAVA_HOME\"] = \"/usr/lib/jvm/java-8-openjdk-amd64\"\n",
        "os.environ[\"SPARK_HOME\"] = \"/content/spark-2.4.3-bin-hadoop2.7\""
      ],
      "execution_count": 0,
      "outputs": []
    },
    {
      "cell_type": "markdown",
      "metadata": {
        "id": "NwU28K5f1H3P",
        "colab_type": "text"
      },
      "source": [
        "# Start a SparkSession\n",
        "This will start a local Spark session."
      ]
    },
    {
      "cell_type": "code",
      "metadata": {
        "id": "6dVriRyIfdpA",
        "colab_type": "code",
        "colab": {}
      },
      "source": [
        "!pip install -q findspark"
      ],
      "execution_count": 0,
      "outputs": []
    },
    {
      "cell_type": "code",
      "metadata": {
        "id": "zgReRGl0y23D",
        "colab_type": "code",
        "colab": {}
      },
      "source": [
        "import findspark\n",
        "findspark.init()"
      ],
      "execution_count": 0,
      "outputs": []
    },
    {
      "cell_type": "code",
      "metadata": {
        "id": "-HcxkeMkcAeE",
        "colab_type": "code",
        "colab": {}
      },
      "source": [
        "\n"
      ],
      "execution_count": 0,
      "outputs": []
    },
    {
      "cell_type": "code",
      "metadata": {
        "id": "Uc4ZxWeYkwh7",
        "colab_type": "code",
        "colab": {}
      },
      "source": [
        "from pyspark import SparkConf\n",
        "from pyspark.context import SparkContext\n",
        "from pyspark import HiveContext,SQLContext"
      ],
      "execution_count": 0,
      "outputs": []
    },
    {
      "cell_type": "code",
      "metadata": {
        "id": "jXwPCLtpk9-0",
        "colab_type": "code",
        "colab": {}
      },
      "source": [
        "sc = SparkContext.getOrCreate(SparkConf().setMaster(\"local[*]\").set(\"spark.executor.memory\", \"10g\"))"
      ],
      "execution_count": 0,
      "outputs": []
    },
    {
      "cell_type": "code",
      "metadata": {
        "id": "cyl8QWj7V-2Q",
        "colab_type": "code",
        "colab": {}
      },
      "source": [
        "sqlContext = SQLContext(sc)"
      ],
      "execution_count": 0,
      "outputs": []
    },
    {
      "cell_type": "markdown",
      "metadata": {
        "id": "T3ULPx4Y1LiR",
        "colab_type": "text"
      },
      "source": [
        "# Use Spark!\n",
        "That's all there is to it - you're ready to use Spark!"
      ]
    },
    {
      "cell_type": "markdown",
      "metadata": {
        "id": "Yr_yP0J7rPlo",
        "colab_type": "text"
      },
      "source": [
        "from google.colab import files\n",
        "uploaded = files.upload()      #to upload files on collab"
      ]
    },
    {
      "cell_type": "markdown",
      "metadata": {
        "id": "Wule_fB4myI2",
        "colab_type": "text"
      },
      "source": [
        "### Importing Packages"
      ]
    },
    {
      "cell_type": "code",
      "metadata": {
        "id": "NFWX8TzaGTHX",
        "colab_type": "code",
        "colab": {}
      },
      "source": [
        "import pandas as pd\n",
        "import numpy as np\n",
        "from sklearn import ensemble\n",
        "from sklearn import linear_model\n",
        "#from sklearn.grid_search import GridSearchCV\n",
        "from sklearn import preprocessing\n",
        "from sklearn.model_selection import train_test_split\n",
        "import sklearn.metrics as metrics\n",
        "import matplotlib.pyplot as plt\n",
        "from collections import Counter\n",
        "\n",
        "from pyspark.ml.feature import OneHotEncoderEstimator\n",
        "from pyspark.ml.feature import StringIndexer, OneHotEncoder\n",
        "from pyspark.ml.regression import RandomForestRegressor\n",
        "from pyspark.ml.evaluation import RegressionEvaluator\n",
        "from pyspark.ml.regression import LinearRegression\n",
        "import matplotlib.pyplot as plt\n",
        "import numpy as np\n",
        "# GBM\n",
        "from pyspark.ml import Pipeline\n",
        "from pyspark.ml.regression import GBTRegressor\n",
        "from pyspark.ml.feature import VectorIndexer\n",
        "from pyspark.ml.evaluation import RegressionEvaluator"
      ],
      "execution_count": 0,
      "outputs": []
    },
    {
      "cell_type": "markdown",
      "metadata": {
        "id": "OWp64L6RbFEq",
        "colab_type": "text"
      },
      "source": [
        "### Importing Listing data using pyspark context"
      ]
    },
    {
      "cell_type": "code",
      "metadata": {
        "id": "rx9bHYQm-JJ1",
        "colab_type": "code",
        "colab": {}
      },
      "source": [
        "listings_df = sqlContext.read.format('com.databricks.spark.csv') \\\n",
        "    .options(header='true', inferschema='true').load('listings_new_v2.csv')\n"
      ],
      "execution_count": 0,
      "outputs": []
    },
    {
      "cell_type": "markdown",
      "metadata": {
        "id": "PaIYpng1bMo6",
        "colab_type": "text"
      },
      "source": [
        "The listing data contains dataset of listing with bedrooms from 0 to 14. Filtering dataset to develop model on all listings with bedroom=1 , since 70% of our dataset has bedroom=1, which will help our model to capture the variance effectively"
      ]
    },
    {
      "cell_type": "code",
      "metadata": {
        "id": "9-xPg6HY-2PJ",
        "colab_type": "code",
        "colab": {}
      },
      "source": [
        "listings_df1 = listings_df.filter(\"bedrooms = 1\")"
      ],
      "execution_count": 0,
      "outputs": []
    },
    {
      "cell_type": "code",
      "metadata": {
        "id": "DrMRGbODg7sO",
        "colab_type": "code",
        "outputId": "fe8ebc38-4de8-4328-87ac-a6b8679671a9",
        "colab": {
          "base_uri": "https://localhost:8080/",
          "height": 34
        }
      },
      "source": [
        "listings_df1.count()"
      ],
      "execution_count": 11,
      "outputs": [
        {
          "output_type": "execute_result",
          "data": {
            "text/plain": [
              "35188"
            ]
          },
          "metadata": {
            "tags": []
          },
          "execution_count": 11
        }
      ]
    },
    {
      "cell_type": "markdown",
      "metadata": {
        "id": "TA9-apS2b7VH",
        "colab_type": "text"
      },
      "source": [
        "Listing all columns which are there in our data. Initially there were 106 columns, we found below columns useful after careful exploratory analysis of data"
      ]
    },
    {
      "cell_type": "code",
      "metadata": {
        "id": "AfuHkkVZIjQE",
        "colab_type": "code",
        "colab": {}
      },
      "source": [
        "listings_df1.columns"
      ],
      "execution_count": 0,
      "outputs": []
    },
    {
      "cell_type": "markdown",
      "metadata": {
        "id": "DZN1IR-Km5Hu",
        "colab_type": "text"
      },
      "source": [
        "### Exploratory Analysis and Data handling\n"
      ]
    },
    {
      "cell_type": "code",
      "metadata": {
        "id": "WtXEvXadee3V",
        "colab_type": "code",
        "colab": {}
      },
      "source": [
        "listings_df1 = listings_df1.drop(\"_c0\")"
      ],
      "execution_count": 0,
      "outputs": []
    },
    {
      "cell_type": "markdown",
      "metadata": {
        "id": "qM0EVmf1cQpo",
        "colab_type": "text"
      },
      "source": [
        "Handling nulls/N/nan in our dataset"
      ]
    },
    {
      "cell_type": "code",
      "metadata": {
        "id": "C4imTEt7mI7O",
        "colab_type": "code",
        "colab": {}
      },
      "source": [
        "#handling nan \n",
        "\n",
        "#creating function to handle nan\n",
        "from pyspark.sql.functions import col, isnan, when, trim\n",
        "def to_null(c):\n",
        "    return when(~(col(c).isNull() | col(c).isin([\"nan\"])| col(c).isin([\"N/A\"]) | (trim(col(c)) == \"\")), col(c))"
      ],
      "execution_count": 0,
      "outputs": []
    },
    {
      "cell_type": "markdown",
      "metadata": {
        "id": "He1KuwDOckNd",
        "colab_type": "text"
      },
      "source": [
        "Dropping all NA's using null handling function created above"
      ]
    },
    {
      "cell_type": "code",
      "metadata": {
        "id": "CNPY6tYYhDUo",
        "colab_type": "code",
        "colab": {}
      },
      "source": [
        "\n",
        "spDF2=listings_df1.select([to_null(c).alias(c) for c in listings_df1.columns]).na.drop()"
      ],
      "execution_count": 0,
      "outputs": []
    },
    {
      "cell_type": "code",
      "metadata": {
        "id": "r3qIZRXG_O4G",
        "colab_type": "code",
        "outputId": "f9d76ff3-1ac8-4f2b-dd49-295f5894408d",
        "colab": {
          "base_uri": "https://localhost:8080/",
          "height": 34
        }
      },
      "source": [
        "spDF2.count()"
      ],
      "execution_count": 16,
      "outputs": [
        {
          "output_type": "execute_result",
          "data": {
            "text/plain": [
              "18770"
            ]
          },
          "metadata": {
            "tags": []
          },
          "execution_count": 16
        }
      ]
    },
    {
      "cell_type": "code",
      "metadata": {
        "id": "zwzxJewd97_P",
        "colab_type": "code",
        "colab": {}
      },
      "source": [
        "spDF2.columns"
      ],
      "execution_count": 0,
      "outputs": []
    },
    {
      "cell_type": "markdown",
      "metadata": {
        "id": "93B1w0RidETe",
        "colab_type": "text"
      },
      "source": [
        "Creating encoding on categorical columns and OHE on columns with multiple categories"
      ]
    },
    {
      "cell_type": "code",
      "metadata": {
        "id": "dqrx29wQQGQL",
        "colab_type": "code",
        "colab": {}
      },
      "source": [
        "\n",
        "cols_index=['instant_bookable','neighbourhood_cleansed','room_type','cancellation_policy']\n",
        "cols_ohe = ['neighbourhood_cleansed','room_type','cancellation_policy']"
      ],
      "execution_count": 0,
      "outputs": []
    },
    {
      "cell_type": "code",
      "metadata": {
        "id": "k3QHvlOYQ6HF",
        "colab_type": "code",
        "colab": {}
      },
      "source": [
        "indexes=[]\n",
        "ohe = []\n",
        "for c in cols_index:\n",
        "    indexes.append(StringIndexer(inputCol=c,outputCol=c+\"_idx\"))\n"
      ],
      "execution_count": 0,
      "outputs": []
    },
    {
      "cell_type": "markdown",
      "metadata": {
        "id": "q2kOP7J9dYVp",
        "colab_type": "text"
      },
      "source": [
        "creating pipeling to include all indexer columns created before"
      ]
    },
    {
      "cell_type": "code",
      "metadata": {
        "id": "L1GWbrnRVNNU",
        "colab_type": "code",
        "colab": {}
      },
      "source": [
        "\n",
        "from pyspark.ml import Pipeline\n",
        "from pyspark.ml import Pipeline\n",
        "#pipe1 = Pipeline(stages=[indexes[0],indexes[1],indexes[2],indexes[3],indexes[4],indexes[5],\n",
        "                        #indexes[6],indexes[7],indexes[8],indexes[9]])\n",
        "pipe1 = Pipeline(stages=[indexes[0],indexes[1],indexes[2],indexes[3]])\n"
      ],
      "execution_count": 0,
      "outputs": []
    },
    {
      "cell_type": "code",
      "metadata": {
        "id": "iySwzfd5mXAq",
        "colab_type": "code",
        "colab": {}
      },
      "source": [
        "model1 = pipe1.fit(spDF2)"
      ],
      "execution_count": 0,
      "outputs": []
    },
    {
      "cell_type": "code",
      "metadata": {
        "id": "9kedYP_RJ85m",
        "colab_type": "code",
        "colab": {}
      },
      "source": [
        "trans = model1.transform(spDF2)"
      ],
      "execution_count": 0,
      "outputs": []
    },
    {
      "cell_type": "code",
      "metadata": {
        "id": "TpWDpXJ1LVjP",
        "colab_type": "code",
        "colab": {}
      },
      "source": [
        "trans.columns"
      ],
      "execution_count": 0,
      "outputs": []
    },
    {
      "cell_type": "markdown",
      "metadata": {
        "id": "cjIp4YZPdkNK",
        "colab_type": "text"
      },
      "source": [
        "dropping columns which are already converted using string vectorizer"
      ]
    },
    {
      "cell_type": "code",
      "metadata": {
        "id": "nnb7qhZvmakN",
        "colab_type": "code",
        "colab": {}
      },
      "source": [
        "\n",
        "updated_df = trans.drop('instant_bookable','neighbourhood_cleansed','room_type','cancellation_policy')"
      ],
      "execution_count": 0,
      "outputs": []
    },
    {
      "cell_type": "code",
      "metadata": {
        "id": "W9zS0dmsm0Wj",
        "colab_type": "code",
        "colab": {}
      },
      "source": [
        "# columns which are categorical and required to be converted to OHE\n",
        "cols2 = ['neighbourhood_cleansed','room_type','cancellation_policy']"
      ],
      "execution_count": 0,
      "outputs": []
    },
    {
      "cell_type": "code",
      "metadata": {
        "id": "vBXk0WdJm47l",
        "colab_type": "code",
        "colab": {}
      },
      "source": [
        "#running OHE code\n",
        "ohe = []\n",
        "for d in cols_ohe:\n",
        "    ohe.append(OneHotEncoder(inputCol=d+\"_idx\",outputCol=d+\"_vec\"))"
      ],
      "execution_count": 0,
      "outputs": []
    },
    {
      "cell_type": "code",
      "metadata": {
        "id": "ZAEsQhF-KNlP",
        "colab_type": "code",
        "colab": {}
      },
      "source": [
        "pipe = Pipeline(stages=[ohe[0],ohe[1],ohe[2]])\n",
        "model = pipe.fit(updated_df)"
      ],
      "execution_count": 0,
      "outputs": []
    },
    {
      "cell_type": "code",
      "metadata": {
        "id": "9egxSxc1KQPj",
        "colab_type": "code",
        "colab": {}
      },
      "source": [
        "trans=model.transform(updated_df)"
      ],
      "execution_count": 0,
      "outputs": []
    },
    {
      "cell_type": "code",
      "metadata": {
        "id": "o5DbObZDFRCd",
        "colab_type": "code",
        "colab": {}
      },
      "source": [
        "from pyspark.sql.types import *\n",
        "from pyspark.sql.functions import regexp_replace, col"
      ],
      "execution_count": 0,
      "outputs": []
    },
    {
      "cell_type": "code",
      "metadata": {
        "id": "pp5RwlAcVuZy",
        "colab_type": "code",
        "colab": {}
      },
      "source": [
        "trans.columns"
      ],
      "execution_count": 0,
      "outputs": []
    },
    {
      "cell_type": "code",
      "metadata": {
        "id": "QqZif6dgCzvv",
        "colab_type": "code",
        "colab": {}
      },
      "source": [
        "trans2 = trans\n",
        "trans2 = trans2.withColumn(\"accommodates\", trans2[\"accommodates\"].cast(IntegerType()))\\\n",
        ".withColumn(\"bedrooms\", trans2[\"bedrooms\"].cast(IntegerType()))\\\n",
        ".withColumn(\"beds\", trans2[\"beds\"].cast(IntegerType()))\\\n",
        ".withColumn(\"availability_30\", trans2[\"availability_30\"].cast(IntegerType()))\\\n",
        ".withColumn(\"review_scores_rating\", trans2[\"review_scores_rating\"].cast(IntegerType()))\n"
      ],
      "execution_count": 0,
      "outputs": []
    },
    {
      "cell_type": "code",
      "metadata": {
        "id": "Bg0QSvMYKanP",
        "colab_type": "code",
        "colab": {}
      },
      "source": [
        "trans2 = trans2.withColumn('price',regexp_replace(trans2['price'],'[\\$,)]',' '))\n",
        "trans2 = trans2.withColumn(\"price\", trans2[\"price\"].cast(FloatType()))"
      ],
      "execution_count": 0,
      "outputs": []
    },
    {
      "cell_type": "code",
      "metadata": {
        "id": "GLsW8JpQKdhQ",
        "colab_type": "code",
        "colab": {}
      },
      "source": [
        "trans3=trans2.drop('neighbourhood_cleansed_idx',\n",
        " 'room_type_idx',\n",
        " 'cancellation_policy_idx')"
      ],
      "execution_count": 0,
      "outputs": []
    },
    {
      "cell_type": "code",
      "metadata": {
        "id": "FFUXXLg-Mm2r",
        "colab_type": "code",
        "colab": {}
      },
      "source": [
        "from pyspark.ml.feature import VectorAssembler"
      ],
      "execution_count": 0,
      "outputs": []
    },
    {
      "cell_type": "markdown",
      "metadata": {
        "id": "aC2KVn19eVO0",
        "colab_type": "text"
      },
      "source": [
        "Creating features as vector assembler with all the columns which are useful (important columns as per random forest variable importance)"
      ]
    },
    {
      "cell_type": "code",
      "metadata": {
        "id": "kIieCrHcNmfV",
        "colab_type": "code",
        "colab": {}
      },
      "source": [
        "trans2=model.transform(updated_df)"
      ],
      "execution_count": 0,
      "outputs": []
    },
    {
      "cell_type": "markdown",
      "metadata": {
        "id": "XHbMDM5dh9bb",
        "colab_type": "text"
      },
      "source": [
        "Using Regex to handle $ in price column"
      ]
    },
    {
      "cell_type": "code",
      "metadata": {
        "id": "DejZxe3kM7vT",
        "colab_type": "code",
        "colab": {}
      },
      "source": [
        "from pyspark.sql.types import *\n",
        "from pyspark.sql.functions import regexp_replace, col\n",
        "#regex to replace $ with space in price col\n",
        "trans2 = trans2.withColumn('price',regexp_replace(trans2['price'],'[\\$,)]',' '))"
      ],
      "execution_count": 0,
      "outputs": []
    },
    {
      "cell_type": "code",
      "metadata": {
        "id": "DVc07bNkIeuI",
        "colab_type": "code",
        "colab": {}
      },
      "source": [
        "updated_df.show(5)"
      ],
      "execution_count": 0,
      "outputs": []
    },
    {
      "cell_type": "markdown",
      "metadata": {
        "id": "pj230tskiB0a",
        "colab_type": "text"
      },
      "source": [
        "cast price from string to float type"
      ]
    },
    {
      "cell_type": "code",
      "metadata": {
        "id": "A4wlXHueNIUN",
        "colab_type": "code",
        "colab": {}
      },
      "source": [
        "trans2 = trans2.withColumn(\"price\", trans2[\"price\"].cast(FloatType()))"
      ],
      "execution_count": 0,
      "outputs": []
    },
    {
      "cell_type": "code",
      "metadata": {
        "id": "D6rF6fRpSJB0",
        "colab_type": "code",
        "colab": {}
      },
      "source": [
        "trans3 = trans2.toPandas()\n"
      ],
      "execution_count": 0,
      "outputs": []
    },
    {
      "cell_type": "code",
      "metadata": {
        "id": "UFoT7qF4TM9x",
        "colab_type": "code",
        "colab": {}
      },
      "source": [
        "trans3.isna().sum()"
      ],
      "execution_count": 0,
      "outputs": []
    },
    {
      "cell_type": "code",
      "metadata": {
        "id": "cx5eAls6Dg4h",
        "colab_type": "code",
        "colab": {}
      },
      "source": [
        "trans4=trans3.dropna()\n",
        "trans5 = sqlContext.createDataFrame(trans4)\n",
        "trans5.printSchema()"
      ],
      "execution_count": 0,
      "outputs": []
    },
    {
      "cell_type": "markdown",
      "metadata": {
        "id": "dLVojsM4iNgg",
        "colab_type": "text"
      },
      "source": [
        "Converting columns to integer from string type"
      ]
    },
    {
      "cell_type": "code",
      "metadata": {
        "id": "dd7W_4x9M3WI",
        "colab_type": "code",
        "colab": {}
      },
      "source": [
        "trans5=trans5.withColumn(\"accommodates\", trans5[\"accommodates\"].cast(IntegerType()))\\\n",
        ".withColumn(\"bedrooms\", trans5[\"bedrooms\"].cast(IntegerType()))\\\n",
        ".withColumn(\"beds\", trans5[\"beds\"].cast(IntegerType()))\\\n",
        ".withColumn(\"availability_30\", trans5[\"availability_30\"].cast(IntegerType()))\\\n",
        ".withColumn(\"review_scores_rating\", trans5[\"review_scores_rating\"].cast(IntegerType()))"
      ],
      "execution_count": 0,
      "outputs": []
    },
    {
      "cell_type": "markdown",
      "metadata": {
        "id": "xBud0Mtjid1A",
        "colab_type": "text"
      },
      "source": [
        "defining vector assembler to encode all features (normal cols,stringindexercols,OHE cols) to a single ouput col=features"
      ]
    },
    {
      "cell_type": "markdown",
      "metadata": {
        "id": "EfSV2nZdmkI0",
        "colab_type": "text"
      },
      "source": [
        "### Vector Assembler - OHE"
      ]
    },
    {
      "cell_type": "code",
      "metadata": {
        "id": "W2O8FOSCia1U",
        "colab_type": "code",
        "colab": {}
      },
      "source": [
        "vect_inp = VectorAssembler(inputCols=[\n",
        " 'accommodates',\n",
        " 'bedrooms',\n",
        " 'beds',\n",
        " 'availability_30',\n",
        " 'review_scores_rating',\n",
        " 'instant_bookable_idx',\n",
        " 'neighbourhood_cleansed_idx',\n",
        " 'room_type_idx',\n",
        " 'cancellation_policy_idx',\n",
        " 'neighbourhood_cleansed_vec',\n",
        " 'room_type_vec',\n",
        " 'cancellation_policy_vec'], outputCol='features')"
      ],
      "execution_count": 0,
      "outputs": []
    },
    {
      "cell_type": "markdown",
      "metadata": {
        "id": "2yghbluBinH8",
        "colab_type": "text"
      },
      "source": [
        "transforming datframe using vect_inp vector assembler created above"
      ]
    },
    {
      "cell_type": "code",
      "metadata": {
        "id": "7lXe1fKGMgMF",
        "colab_type": "code",
        "colab": {}
      },
      "source": [
        "vhouse_df = vect_inp.transform(trans5)"
      ],
      "execution_count": 0,
      "outputs": []
    },
    {
      "cell_type": "code",
      "metadata": {
        "id": "LpMCjjy7BVsm",
        "colab_type": "code",
        "colab": {}
      },
      "source": [
        "vhouse_df.columns"
      ],
      "execution_count": 0,
      "outputs": []
    },
    {
      "cell_type": "code",
      "metadata": {
        "id": "ce5jAG6fMkch",
        "colab_type": "code",
        "colab": {}
      },
      "source": [
        "vh = vhouse_df.select(['features', 'price'])"
      ],
      "execution_count": 0,
      "outputs": []
    },
    {
      "cell_type": "code",
      "metadata": {
        "id": "kTOgQDXtMlHi",
        "colab_type": "code",
        "colab": {}
      },
      "source": [
        "vh.show()"
      ],
      "execution_count": 0,
      "outputs": []
    },
    {
      "cell_type": "markdown",
      "metadata": {
        "id": "Y4DjnFWgmao2",
        "colab_type": "text"
      },
      "source": [
        "### Splitting Dataset into Training and Testing"
      ]
    },
    {
      "cell_type": "markdown",
      "metadata": {
        "id": "tqyH4tcWi0ZJ",
        "colab_type": "text"
      },
      "source": [
        "Splitting our dataset to train and test using randomsplit fucntion of pyspark"
      ]
    },
    {
      "cell_type": "code",
      "metadata": {
        "id": "fnCuDD7R3D44",
        "colab_type": "code",
        "colab": {}
      },
      "source": [
        "#splitting the dataframe to train test\n",
        "splits = vh.randomSplit([0.7, 0.3])\n",
        "train_df = splits[0]\n",
        "test_df = splits[1]"
      ],
      "execution_count": 0,
      "outputs": []
    },
    {
      "cell_type": "code",
      "metadata": {
        "id": "M_fv9pcSBO4L",
        "colab_type": "code",
        "outputId": "1680bbf3-a248-4081-af67-7dc082f0b200",
        "colab": {
          "base_uri": "https://localhost:8080/",
          "height": 34
        }
      },
      "source": [
        "train_df.columns"
      ],
      "execution_count": 55,
      "outputs": [
        {
          "output_type": "execute_result",
          "data": {
            "text/plain": [
              "['features', 'price']"
            ]
          },
          "metadata": {
            "tags": []
          },
          "execution_count": 55
        }
      ]
    },
    {
      "cell_type": "code",
      "metadata": {
        "id": "a7WjmGrb3dBU",
        "colab_type": "code",
        "colab": {}
      },
      "source": [
        "train_df.show()"
      ],
      "execution_count": 0,
      "outputs": []
    },
    {
      "cell_type": "markdown",
      "metadata": {
        "id": "_EkNQ5GajFsl",
        "colab_type": "text"
      },
      "source": [
        "## MODELLING STEP "
      ]
    },
    {
      "cell_type": "markdown",
      "metadata": {
        "id": "JtPZ-XchjONL",
        "colab_type": "text"
      },
      "source": [
        "### RANDOM FOREST MODEL - TRAINING DATASET"
      ]
    },
    {
      "cell_type": "code",
      "metadata": {
        "id": "Z4QENzwy5-lm",
        "colab_type": "code",
        "colab": {}
      },
      "source": [
        "\n",
        "rf = RandomForestRegressor(featuresCol='features', labelCol='price', numTrees=500)"
      ],
      "execution_count": 0,
      "outputs": []
    },
    {
      "cell_type": "markdown",
      "metadata": {
        "id": "mGjFe9vejSzF",
        "colab_type": "text"
      },
      "source": [
        "Fitting and transform model created on Training dataset"
      ]
    },
    {
      "cell_type": "code",
      "metadata": {
        "id": "WiloYTBL4JKf",
        "colab_type": "code",
        "colab": {}
      },
      "source": [
        "rf_model = rf.fit(train_df)"
      ],
      "execution_count": 0,
      "outputs": []
    },
    {
      "cell_type": "code",
      "metadata": {
        "id": "ehVyUSfy4JP2",
        "colab_type": "code",
        "colab": {}
      },
      "source": [
        "df2 = rf_model.transform(train_df)"
      ],
      "execution_count": 0,
      "outputs": []
    },
    {
      "cell_type": "code",
      "metadata": {
        "id": "lRR7UjHSEe88",
        "colab_type": "code",
        "colab": {}
      },
      "source": [
        "preds_vs_labels = df2.select(\"prediction\", \"price\")\n",
        "preds_vs_labels = preds_vs_labels.withColumn('label', preds_vs_labels['price'])"
      ],
      "execution_count": 0,
      "outputs": []
    },
    {
      "cell_type": "code",
      "metadata": {
        "id": "kquSZBldG8-N",
        "colab_type": "code",
        "colab": {}
      },
      "source": [
        "\n",
        "evaluator = RegressionEvaluator()\n",
        "evaluator2 = RegressionEvaluator(metricName='r2')"
      ],
      "execution_count": 0,
      "outputs": []
    },
    {
      "cell_type": "markdown",
      "metadata": {
        "id": "Qkr0pYoFkN5E",
        "colab_type": "text"
      },
      "source": [
        "Random Forest model Evaluation on Training Dataset"
      ]
    },
    {
      "cell_type": "code",
      "metadata": {
        "id": "EueenILYHDA-",
        "colab_type": "code",
        "outputId": "808fd14e-f2fc-4997-bec3-88cd94f9ce45",
        "colab": {
          "base_uri": "https://localhost:8080/",
          "height": 51
        }
      },
      "source": [
        "print(\"R2 of predictions by model = \" + str(evaluator2.evaluate(preds_vs_labels)))\n",
        "print(\"RMSE of predictions by model = \" + str(evaluator.evaluate(preds_vs_labels)))"
      ],
      "execution_count": 63,
      "outputs": [
        {
          "output_type": "stream",
          "text": [
            "R2 of predictions by model = 0.47169106180793563\n",
            "RMSE of predictions by model = 52.650049293328266\n"
          ],
          "name": "stdout"
        }
      ]
    },
    {
      "cell_type": "markdown",
      "metadata": {
        "id": "dgR2-5xbkU3s",
        "colab_type": "text"
      },
      "source": [
        "#### Feature Importance"
      ]
    },
    {
      "cell_type": "code",
      "metadata": {
        "id": "EnO2Mgfz4JVg",
        "colab_type": "code",
        "colab": {}
      },
      "source": [
        "def ExtractFeatureImp(featureImp, dataset, featuresCol):\n",
        "    list_extract = []\n",
        "    for i in dataset.schema[featuresCol].metadata[\"ml_attr\"][\"attrs\"]:\n",
        "        list_extract = list_extract + dataset.schema[featuresCol].metadata[\"ml_attr\"][\"attrs\"][i]\n",
        "    varlist = pd.DataFrame(list_extract)\n",
        "    varlist['score'] = varlist['idx'].apply(lambda x: featureImp[x])\n",
        "    return(varlist.sort_values('score', ascending = False))"
      ],
      "execution_count": 0,
      "outputs": []
    },
    {
      "cell_type": "code",
      "metadata": {
        "id": "iRROgmD24Je0",
        "colab_type": "code",
        "outputId": "6abc7045-0828-40a6-d79d-da3c0206c236",
        "colab": {
          "base_uri": "https://localhost:8080/",
          "height": 359
        }
      },
      "source": [
        "#feature importance from Random forest\n",
        "ExtractFeatureImp(rf_model.featureImportances, df2, \"features\").head(10)"
      ],
      "execution_count": 65,
      "outputs": [
        {
          "output_type": "execute_result",
          "data": {
            "text/html": [
              "<div>\n",
              "<style scoped>\n",
              "    .dataframe tbody tr th:only-of-type {\n",
              "        vertical-align: middle;\n",
              "    }\n",
              "\n",
              "    .dataframe tbody tr th {\n",
              "        vertical-align: top;\n",
              "    }\n",
              "\n",
              "    .dataframe thead th {\n",
              "        text-align: right;\n",
              "    }\n",
              "</style>\n",
              "<table border=\"1\" class=\"dataframe\">\n",
              "  <thead>\n",
              "    <tr style=\"text-align: right;\">\n",
              "      <th></th>\n",
              "      <th>idx</th>\n",
              "      <th>name</th>\n",
              "      <th>score</th>\n",
              "    </tr>\n",
              "  </thead>\n",
              "  <tbody>\n",
              "    <tr>\n",
              "      <th>217</th>\n",
              "      <td>217</td>\n",
              "      <td>room_type_vec_1</td>\n",
              "      <td>0.374232</td>\n",
              "    </tr>\n",
              "    <tr>\n",
              "      <th>7</th>\n",
              "      <td>7</td>\n",
              "      <td>room_type_idx</td>\n",
              "      <td>0.190433</td>\n",
              "    </tr>\n",
              "    <tr>\n",
              "      <th>216</th>\n",
              "      <td>216</td>\n",
              "      <td>room_type_vec_0</td>\n",
              "      <td>0.130573</td>\n",
              "    </tr>\n",
              "    <tr>\n",
              "      <th>0</th>\n",
              "      <td>0</td>\n",
              "      <td>accommodates</td>\n",
              "      <td>0.084733</td>\n",
              "    </tr>\n",
              "    <tr>\n",
              "      <th>19</th>\n",
              "      <td>19</td>\n",
              "      <td>neighbourhood_cleansed_vec_10</td>\n",
              "      <td>0.062751</td>\n",
              "    </tr>\n",
              "    <tr>\n",
              "      <th>3</th>\n",
              "      <td>3</td>\n",
              "      <td>availability_30</td>\n",
              "      <td>0.028740</td>\n",
              "    </tr>\n",
              "    <tr>\n",
              "      <th>6</th>\n",
              "      <td>6</td>\n",
              "      <td>neighbourhood_cleansed_idx</td>\n",
              "      <td>0.021092</td>\n",
              "    </tr>\n",
              "    <tr>\n",
              "      <th>4</th>\n",
              "      <td>4</td>\n",
              "      <td>review_scores_rating</td>\n",
              "      <td>0.017827</td>\n",
              "    </tr>\n",
              "    <tr>\n",
              "      <th>13</th>\n",
              "      <td>13</td>\n",
              "      <td>neighbourhood_cleansed_vec_4</td>\n",
              "      <td>0.016701</td>\n",
              "    </tr>\n",
              "    <tr>\n",
              "      <th>22</th>\n",
              "      <td>22</td>\n",
              "      <td>neighbourhood_cleansed_vec_13</td>\n",
              "      <td>0.015914</td>\n",
              "    </tr>\n",
              "  </tbody>\n",
              "</table>\n",
              "</div>"
            ],
            "text/plain": [
              "     idx                           name     score\n",
              "217  217                room_type_vec_1  0.374232\n",
              "7      7                  room_type_idx  0.190433\n",
              "216  216                room_type_vec_0  0.130573\n",
              "0      0                   accommodates  0.084733\n",
              "19    19  neighbourhood_cleansed_vec_10  0.062751\n",
              "3      3                availability_30  0.028740\n",
              "6      6     neighbourhood_cleansed_idx  0.021092\n",
              "4      4           review_scores_rating  0.017827\n",
              "13    13   neighbourhood_cleansed_vec_4  0.016701\n",
              "22    22  neighbourhood_cleansed_vec_13  0.015914"
            ]
          },
          "metadata": {
            "tags": []
          },
          "execution_count": 65
        }
      ]
    },
    {
      "cell_type": "markdown",
      "metadata": {
        "id": "9TkErRLokbVJ",
        "colab_type": "text"
      },
      "source": [
        "### RANDOM FOREST MODEL - TESTING DATASET"
      ]
    },
    {
      "cell_type": "code",
      "metadata": {
        "id": "76ozwSiP_BbZ",
        "colab_type": "code",
        "colab": {}
      },
      "source": [
        "df3 = rf_model.transform(test_df)"
      ],
      "execution_count": 0,
      "outputs": []
    },
    {
      "cell_type": "code",
      "metadata": {
        "id": "wATCbdj3EUsB",
        "colab_type": "code",
        "colab": {}
      },
      "source": [
        "preds_vs_labels = df3.select(\"prediction\", \"price\")\n",
        "preds_vs_labels = preds_vs_labels.withColumn('label', preds_vs_labels['price'])"
      ],
      "execution_count": 0,
      "outputs": []
    },
    {
      "cell_type": "code",
      "metadata": {
        "id": "g87WdFOCEUpj",
        "colab_type": "code",
        "colab": {}
      },
      "source": [
        "from pyspark.ml.evaluation import RegressionEvaluator\n",
        "evaluator = RegressionEvaluator()\n",
        "evaluator2 = RegressionEvaluator(metricName='r2')"
      ],
      "execution_count": 0,
      "outputs": []
    },
    {
      "cell_type": "markdown",
      "metadata": {
        "id": "6he1Jj9ako5m",
        "colab_type": "text"
      },
      "source": [
        "Testing Dataset Evaluation"
      ]
    },
    {
      "cell_type": "code",
      "metadata": {
        "id": "5Wnlxqi-EUlZ",
        "colab_type": "code",
        "outputId": "0de4eadd-8dcf-4bba-9bb3-b35895a58330",
        "colab": {
          "base_uri": "https://localhost:8080/",
          "height": 51
        }
      },
      "source": [
        "print(\"R2 of predictions by model = \" + str(evaluator2.evaluate(preds_vs_labels)))\n",
        "print(\"RMSE of predictions by model = \" + str(evaluator.evaluate(preds_vs_labels)))"
      ],
      "execution_count": 69,
      "outputs": [
        {
          "output_type": "stream",
          "text": [
            "R2 of predictions by model = 0.41133817398500927\n",
            "RMSE of predictions by model = 55.164444835974734\n"
          ],
          "name": "stdout"
        }
      ]
    },
    {
      "cell_type": "markdown",
      "metadata": {
        "id": "R3PdM6IlkuB8",
        "colab_type": "text"
      },
      "source": [
        "### LINEAR REGRESSION MODEL - TRAINING DATASET"
      ]
    },
    {
      "cell_type": "code",
      "metadata": {
        "id": "TG2csHud4Jlc",
        "colab_type": "code",
        "outputId": "7a0cca3d-2c95-4a5e-fca1-d72851f28793",
        "colab": {
          "base_uri": "https://localhost:8080/",
          "height": 71
        }
      },
      "source": [
        "\n",
        "# running linear regression model\n",
        "lr = LinearRegression(featuresCol = 'features', labelCol='price', maxIter=400, regParam=0.1, elasticNetParam=0.8)\n",
        "lr_model = lr.fit(train_df)\n",
        "print(\"Coefficients: \" + str(lr_model.coefficients))\n",
        "print(\"Intercept: \" + str(lr_model.intercept))"
      ],
      "execution_count": 70,
      "outputs": [
        {
          "output_type": "stream",
          "text": [
            "Coefficients: [13.015005105575943,0.0,-1.8712203569174561,0.8572831936837889,0.6924843747842605,0.38276439144722335,-0.23618146302124712,-11.60011674416503,1.690152607168034,-15.577997858268827,15.414921965571075,0.0,-17.395648537519254,49.814879671138975,34.78636540073807,31.849750455475593,36.41763623179699,-16.16528699171165,6.593055848909862,98.33418340112954,-10.477396512526532,33.90968008971852,72.44089842144777,-14.590792865257473,9.345988288725396,80.50878068382966,-21.66188076516328,-24.580994768366494,-19.450563253712083,1.5152362802511103,-19.52272238205468,16.204326892002836,-12.890143849463033,-17.823358706032085,19.220149655693437,38.182730689945714,-15.711838988543047,-12.131913052537511,20.9375218620448,42.35517583812107,89.61187851325144,55.02775590899023,60.623661777084784,8.209748055589717,-19.2884008144618,54.12210702854716,-13.580710477323247,74.89815383421859,65.65058654292423,-13.747648192837106,-21.016713045698364,-15.712951966207601,-13.193315479639821,-23.370172936223508,10.808799442647885,16.885771342488432,-23.658949506043317,-23.098887719105623,-16.796616394079926,32.10234072813109,-19.217991386353372,-0.6753592857569414,82.70582764260438,23.7994594849661,-11.648337384443641,-4.002083184207919,-20.506459481699483,34.59703760828079,-15.45678079866647,24.92584015474579,52.35199459152873,-22.025748902521357,-12.726059652281442,-9.301635145529541,-11.78831659774312,-14.127564995326521,-0.762110563916139,-5.152794181734241,38.298361764770156,-17.294753903305644,-5.846344740508681,-18.804822732007757,-16.155262894364114,-2.325372088893688,-18.196127223367597,-18.289744023379377,-14.78425159213336,122.55298641078727,-8.944445803383323,-19.617354639169132,-4.033213111334599,-23.850593229126023,-3.6030230965953045,29.139445546936674,29.13561345490719,1.7683846029928116,-5.985010043096168,-0.25020053366286404,11.136390630339458,10.407314839795962,-1.6617449566435973,126.26409845560308,47.416226230596564,-20.479187988972225,-24.489255858291898,-9.171094147076422,6.297572977676121,0.0,-7.3111753291986386,-10.558817700283928,0.0,-5.28795511446159,-6.531747324249667,0.0,-6.396142838657017,5.866109629313146,-2.0777660412414565,45.30893619144067,114.98378967081823,89.50201744126761,-7.215770050881901,0.0,-20.39059894242948,-10.882861036620676,4.251959455194002,0.0,0.9054354157873952,22.721120923424785,-11.617997730792437,0.0,90.89664311456971,2.0573395009749187,-17.228817621428515,0.0,2.231501124542188,-2.076833569131362,-6.618548917369547,0.0,0.0,55.647991455512056,-3.163608578416523,7.0870866096787255,-3.0464947536185707,-7.799089187964038,-6.1840373838230835,0.2700512081569658,70.44203335910663,0.9938730929035073,-2.2928761866591123,-6.641808304955442,1.6343955167881579,0.0,3.559723829935515,10.24413254823528,-3.045749992677366,7.442241595638583,0.0,61.24643256660303,-11.881635902938806,7.140350240737602,42.72924463841035,21.418451298664753,21.113272145986638,0.0,0.0,12.285750943834906,-2.3745220634661535,-37.24517280768377,0.0,0.0,0.0,-10.095447499290593,-32.86451326232124,-3.595510448769991,30.985818731660313,0.0,39.30853075398053,-14.631954593440351,0.0,0.0,44.973224143108624,9.685159053225624,-1.9347500158259372,2.2614457704642787,-7.923973179226239,73.22767791102507,-12.309352566148872,118.2930070698653,21.11115502629572,17.844098904040585,-10.333188357576256,0.0,0.0,22.071172862704017,23.26886059091672,33.606992965445016,0.0,22.314197152306523,12.820877290488944,16.482486992970458,-1.0254555821553393,-3.16251022833784,-15.1801901413881,-3.787747221593532,0.0,-36.81484296925734,11.055131669602837,2.704790942279306,0.0,-14.168735696029833,-4.807617415722735,165.30131934761243,0.0,0.0,0.0,0.0,0.0,66.3876125695383,-0.7972651276597372,0.0,0.0,-30.825304031223826,-29.74432825241262]\n",
            "Intercept: -23.60334179634446\n"
          ],
          "name": "stdout"
        }
      ]
    },
    {
      "cell_type": "code",
      "metadata": {
        "id": "PrEQ11cs4JpL",
        "colab_type": "code",
        "outputId": "79357296-eaa6-420e-9413-a13533872a78",
        "colab": {
          "base_uri": "https://localhost:8080/",
          "height": 51
        }
      },
      "source": [
        "summary =lr_model.summary\n",
        "print(\"RMSE: %f\" % summary.rootMeanSquaredError)\n",
        "print(\"r2: %f\" % summary.r2)"
      ],
      "execution_count": 71,
      "outputs": [
        {
          "output_type": "stream",
          "text": [
            "RMSE: 48.642245\n",
            "r2: 0.549061\n"
          ],
          "name": "stdout"
        }
      ]
    },
    {
      "cell_type": "markdown",
      "metadata": {
        "id": "VYm0pnmKk2IB",
        "colab_type": "text"
      },
      "source": [
        "### LINEAR REGRESSION MODEL - TESTING DATASET"
      ]
    },
    {
      "cell_type": "code",
      "metadata": {
        "id": "FwMsA_sPFbXm",
        "colab_type": "code",
        "outputId": "d8461e10-3c50-43e5-e7f5-bd4e9c9d7dfa",
        "colab": {
          "base_uri": "https://localhost:8080/",
          "height": 71
        }
      },
      "source": [
        "# running linear regression model on test data\n",
        "lr_model = lr.fit(test_df)\n",
        "print(\"Coefficients: \" + str(lr_model.coefficients))\n",
        "print(\"Intercept: \" + str(lr_model.intercept))"
      ],
      "execution_count": 72,
      "outputs": [
        {
          "output_type": "stream",
          "text": [
            "Coefficients: [10.760178374360143,0.0,-0.9147533394062336,0.8679817594828112,0.6344292837215539,1.710740560838827,-0.2445856992806572,-12.446035658406478,1.030960494999293,-19.202581823280394,12.828205897689163,0.0,-20.6172317302398,47.89218713656742,40.194941405050834,24.42476791433075,37.204185717919046,-15.021649936321527,7.2508048601804775,103.18751994233163,-16.857836679620554,30.38173128429329,70.89782475968725,-11.207999012792646,10.397122413263029,73.65090949718812,-21.81477182309698,-27.290258274786773,-17.51467863180089,0.0,-9.231077196945277,13.283331743892301,-14.999740651752957,-18.972545019030388,20.567270761834994,25.61234911519045,-12.941950259049168,-2.0258177489055798,16.466117504898047,45.92403477581833,94.30790202215834,64.5215786454189,70.07887721313303,18.770851320211552,-15.194007881555786,41.401532153616124,-36.98801685948606,86.88624290349955,59.652539458249876,-21.116078188387498,-17.43317713147893,-12.184441376592591,-13.881073123637858,-31.518631332817904,6.610567476065503,24.151270521058077,-17.990599374582192,-17.617487640262333,-2.0474200309055828,21.166536172213103,-15.155489437957861,-0.8835826253953664,67.12942853049871,33.20378480852588,-6.743282100024401,-5.584295489795075,-25.385948923381427,29.27368662537271,-13.254916794666244,22.961565113211172,40.71721037021213,-18.814441666128545,-30.066531402558905,0.0,-2.1782358122614816,-15.933132075926167,-2.5627831726331314,5.218142018633879,33.980418825119514,-10.090404939712895,1.376378567367141,-16.464390574671153,-13.944314064914055,19.00487525053407,-7.5297709209706145,-18.593386373801188,-28.363140291797897,140.78502049726515,-7.873758632830377,-26.024651530464983,2.972819276709226,-19.91806122293179,-12.223840892017158,40.29283037390114,35.57513921377522,12.49353610556528,-23.508836037517053,8.524483892209615,4.619035727836526,2.439064206461129,5.665908704340708,195.6157453453024,57.19274057587913,-16.15534608616467,-0.12907189397665253,0.0,13.096093672457872,-15.987248311682976,0.0,-7.225442334820329,-19.670420677593913,5.658885859219729,-18.109060737192276,-10.81747080623324,0.2967773851764881,-7.658651769141795,-9.357818900659561,169.9227213086738,86.24929202883257,74.5246938427342,10.405262556800977,0.0,16.529322940096836,-8.196415857775708,-14.33847111095369,0.0,-16.6668383815398,30.396790011769475,1.616897856681234,-20.452522089670587,83.41243852808864,-7.256449160460603,-22.46684925230066,-0.446550365340238,-13.063938925042548,0.0,1.9648756615729814,1.0400687578436967,10.448680659076798,40.64196915335501,0.0,3.7282939769634327,-3.198816277285998,31.880884068073314,0.0,-14.570635765712343,48.939391068654594,12.356580666425323,-26.433437622927883,0.0,-18.081479633919873,-0.006566342146526181,-3.7249223879858633,23.81030828382325,17.03215201118857,-6.249093837240717,-2.2129880209530923,42.2159113257318,-44.46119750094831,0.0,-14.79751099710343,-4.246243179305241,0.0,0.0,5.390333304159101,0.0,-16.651472914015873,0.0,-17.5542460803194,0.0,0.0,-46.137413876561986,12.975991218660608,16.410840901120785,66.50513200603923,-22.360346645003556,-25.792357990237864,0.0,0.0,-2.077010543665938,13.112426696611326,-6.9784220382257605,0.0,-6.6221772278115125,0.0,13.742731761344022,-28.14820045530058,-13.888571878534671,0.0,0.0,0.0,45.01940163357858,0.0,0.0,0.0,0.0,1.3623126473099938,25.444830163604596,-36.58813638597151,0.0,0.0,0.0,0.0,10.598901870342962,-7.690917371017408,0.0,0.0,0.0,23.937961096777297,0.0,0.0,0.0,0.0,0.0,0.0,-19.985702596163463,0.0,66.80309771843251,0.0,2.636714062440464,0.0,-2.5264468375825806,-38.651663442481464]\n",
            "Intercept: -14.248784209272753\n"
          ],
          "name": "stdout"
        }
      ]
    },
    {
      "cell_type": "code",
      "metadata": {
        "id": "f31xNlstuIkF",
        "colab_type": "code",
        "outputId": "0e5f4317-9f58-4d03-925e-97efb571e579",
        "colab": {
          "base_uri": "https://localhost:8080/",
          "height": 269
        }
      },
      "source": [
        "\n",
        "beta = np.sort(lr_model.coefficients)\n",
        "plt.plot(beta)\n",
        "plt.ylabel('Beta Coefficients')\n",
        "plt.show()"
      ],
      "execution_count": 73,
      "outputs": [
        {
          "output_type": "display_data",
          "data": {
            "image/png": "[encoded data removed]",
            "text/plain": [
              "<Figure size 432x288 with 1 Axes>"
            ]
          },
          "metadata": {
            "tags": []
          }
        }
      ]
    },
    {
      "cell_type": "code",
      "metadata": {
        "id": "umRtTeyZFqCe",
        "colab_type": "code",
        "outputId": "d6a2be82-c967-494e-e20e-28e03eca2884",
        "colab": {
          "base_uri": "https://localhost:8080/",
          "height": 51
        }
      },
      "source": [
        "_msummary =lr_model.summary\n",
        "print(\"RMSE: %f\" % summary.rootMeanSquaredError)\n",
        "print(\"r2: %f\" % summary.r2)"
      ],
      "execution_count": 74,
      "outputs": [
        {
          "output_type": "stream",
          "text": [
            "RMSE: 48.642245\n",
            "r2: 0.549061\n"
          ],
          "name": "stdout"
        }
      ]
    },
    {
      "cell_type": "markdown",
      "metadata": {
        "id": "T6XcfBdek98t",
        "colab_type": "text"
      },
      "source": [
        "### GRADIENT BOOSTING - TRAINING DATASET"
      ]
    },
    {
      "cell_type": "code",
      "metadata": {
        "id": "PdRysrOJcL_1",
        "colab_type": "code",
        "colab": {}
      },
      "source": [
        "train_df_gbm = train_df.withColumn('label', train_df['price'])"
      ],
      "execution_count": 0,
      "outputs": []
    },
    {
      "cell_type": "code",
      "metadata": {
        "id": "M5qvJhYt4Jsb",
        "colab_type": "code",
        "colab": {}
      },
      "source": [
        "gbt = GBTRegressor(featuresCol=\"features\", maxIter=50)"
      ],
      "execution_count": 0,
      "outputs": []
    },
    {
      "cell_type": "code",
      "metadata": {
        "id": "iRAK3MQk4JiZ",
        "colab_type": "code",
        "colab": {}
      },
      "source": [
        "gbt_fit = gbt.fit(train_df_gbm)"
      ],
      "execution_count": 0,
      "outputs": []
    },
    {
      "cell_type": "code",
      "metadata": {
        "id": "pjZSFuRV4Jcc",
        "colab_type": "code",
        "colab": {}
      },
      "source": [
        "preds = gbt_fit.transform(train_df_gbm)"
      ],
      "execution_count": 0,
      "outputs": []
    },
    {
      "cell_type": "code",
      "metadata": {
        "id": "6BVsKwQnbmIN",
        "colab_type": "code",
        "colab": {}
      },
      "source": [
        "gbt_fit.transform(train_df_gbm)\\\n",
        "    .select(\"features\", \"label\", \"prediction\")\\\n",
        "    .show()"
      ],
      "execution_count": 0,
      "outputs": []
    },
    {
      "cell_type": "code",
      "metadata": {
        "id": "RbE7Zc5VbmSC",
        "colab_type": "code",
        "outputId": "7f5e50ba-0a5b-4056-d1ee-1a8cb0ce170e",
        "colab": {
          "base_uri": "https://localhost:8080/",
          "height": 34
        }
      },
      "source": [
        "evaluator = RegressionEvaluator(\n",
        "    labelCol=\"label\", predictionCol=\"prediction\", metricName=\"rmse\")\n",
        "rmse = evaluator.evaluate(preds)\n",
        "print(\"Root Mean Squared Error (RMSE) on train data = %g\" % rmse)"
      ],
      "execution_count": 81,
      "outputs": [
        {
          "output_type": "stream",
          "text": [
            "Root Mean Squared Error (RMSE) on train data = 41.2927\n"
          ],
          "name": "stdout"
        }
      ]
    },
    {
      "cell_type": "code",
      "metadata": {
        "id": "z2QyVp8nbmXK",
        "colab_type": "code",
        "outputId": "2afbca00-e41c-4304-b7be-92d56fcc805f",
        "colab": {
          "base_uri": "https://localhost:8080/",
          "height": 34
        }
      },
      "source": [
        "evaluator = RegressionEvaluator(\n",
        "    labelCol=\"label\", predictionCol=\"prediction\", metricName=\"r2\")\n",
        "r2 = evaluator.evaluate(preds)\n",
        "print(\"R square on data = %g\" % r2)"
      ],
      "execution_count": 82,
      "outputs": [
        {
          "output_type": "stream",
          "text": [
            "R square on data = 0.675035\n"
          ],
          "name": "stdout"
        }
      ]
    },
    {
      "cell_type": "markdown",
      "metadata": {
        "id": "abfV9EhplPV6",
        "colab_type": "text"
      },
      "source": [
        "#### GBM model outperformed Linear Regression and Random Forest Model and thus tuning the model further using cross validation"
      ]
    },
    {
      "cell_type": "markdown",
      "metadata": {
        "id": "sYtxuSePlghi",
        "colab_type": "text"
      },
      "source": [
        "### CROSS VALIDATION -GBM"
      ]
    },
    {
      "cell_type": "code",
      "metadata": {
        "id": "ffKpNtccsQmP",
        "colab_type": "code",
        "colab": {}
      },
      "source": [
        "# Implementing gridsearch in GBM , since we get to know gbm is giving good performance\n",
        "from pyspark.ml.tuning import CrossValidator\n"
      ],
      "execution_count": 0,
      "outputs": []
    },
    {
      "cell_type": "code",
      "metadata": {
        "id": "0az3FoaBwddO",
        "colab_type": "code",
        "colab": {}
      },
      "source": [
        "print(gbt.explainParams())"
      ],
      "execution_count": 0,
      "outputs": []
    },
    {
      "cell_type": "code",
      "metadata": {
        "id": "_IrgwpMtwdXO",
        "colab_type": "code",
        "colab": {}
      },
      "source": [
        "## Crossvalidation on GBM\n",
        "\n",
        "from pyspark.ml.tuning import ParamGridBuilder, CrossValidator\n",
        "paramGrid = (ParamGridBuilder()\n",
        "             .addGrid(gbt.maxDepth, [2, 4, 6])\n",
        "             .addGrid(gbt.maxBins, [20, 60])\n",
        "             .addGrid(gbt.maxIter, [50, 80])\n",
        "             .build())"
      ],
      "execution_count": 0,
      "outputs": []
    },
    {
      "cell_type": "code",
      "metadata": {
        "id": "jpLmeoG6wdRs",
        "colab_type": "code",
        "colab": {}
      },
      "source": [
        "cv = CrossValidator(estimator=gbt, estimatorParamMaps=paramGrid, evaluator=evaluator, numFolds=2)\n",
        "cvModel = cv.fit(train_df_gbm)"
      ],
      "execution_count": 0,
      "outputs": []
    },
    {
      "cell_type": "code",
      "metadata": {
        "id": "lPuRIJdMwdK0",
        "colab_type": "code",
        "colab": {}
      },
      "source": [
        "preds_cv = cvModel.transform(train_df_gbm)"
      ],
      "execution_count": 0,
      "outputs": []
    },
    {
      "cell_type": "code",
      "metadata": {
        "id": "BHZ1xMZ3wdB9",
        "colab_type": "code",
        "colab": {}
      },
      "source": [
        "cvModel.transform(train_df_gbm)\\\n",
        "    .select(\"features\", \"label\", \"prediction\")\\\n",
        "    .show()"
      ],
      "execution_count": 0,
      "outputs": []
    },
    {
      "cell_type": "code",
      "metadata": {
        "id": "wH8-AqJNZAj_",
        "colab_type": "code",
        "outputId": "eb61b388-2b13-4f7f-f418-dc7626e90bfd",
        "colab": {
          "base_uri": "https://localhost:8080/",
          "height": 34
        }
      },
      "source": [
        "evaluator = RegressionEvaluator(\n",
        "    labelCol=\"label\", predictionCol=\"prediction\", metricName=\"rmse\")\n",
        "rmse = evaluator.evaluate(preds_cv)\n",
        "print(\"Root Mean Squared Error (RMSE) on train data = %g\" % rmse)"
      ],
      "execution_count": 90,
      "outputs": [
        {
          "output_type": "stream",
          "text": [
            "Root Mean Squared Error (RMSE) on train data = 42.3381\n"
          ],
          "name": "stdout"
        }
      ]
    },
    {
      "cell_type": "code",
      "metadata": {
        "id": "KfU4oB5EZF6t",
        "colab_type": "code",
        "outputId": "b0abecaa-4702-46bc-a72a-c726473c1083",
        "colab": {
          "base_uri": "https://localhost:8080/",
          "height": 34
        }
      },
      "source": [
        "evaluator = RegressionEvaluator(\n",
        "    labelCol=\"label\", predictionCol=\"prediction\", metricName=\"r2\")\n",
        "r2 = evaluator.evaluate(preds_cv)\n",
        "print(\"R square on data = %g\" % r2)"
      ],
      "execution_count": 91,
      "outputs": [
        {
          "output_type": "stream",
          "text": [
            "R square on data = 0.658373\n"
          ],
          "name": "stdout"
        }
      ]
    },
    {
      "cell_type": "markdown",
      "metadata": {
        "id": "e_n6a5c_ltj4",
        "colab_type": "text"
      },
      "source": [
        "### GRADIENT BOOSTING MODEL - TESTING DATASET (Cross Validation fit and Transform)"
      ]
    },
    {
      "cell_type": "code",
      "metadata": {
        "id": "LcpN_tqsbmfU",
        "colab_type": "code",
        "colab": {}
      },
      "source": [
        "test_df_gbm = test_df.withColumn('label', test_df['price'])"
      ],
      "execution_count": 0,
      "outputs": []
    },
    {
      "cell_type": "code",
      "metadata": {
        "id": "ooI91EX5bmjP",
        "colab_type": "code",
        "colab": {}
      },
      "source": [
        "preds_test = cvModel.transform(test_df_gbm)"
      ],
      "execution_count": 0,
      "outputs": []
    },
    {
      "cell_type": "code",
      "metadata": {
        "id": "1Pdg01bUbmO7",
        "colab_type": "code",
        "colab": {}
      },
      "source": [
        "cvModel.transform(test_df_gbm)\\\n",
        "    .select(\"features\", \"label\", \"prediction\")\\\n",
        "    .show()"
      ],
      "execution_count": 0,
      "outputs": []
    },
    {
      "cell_type": "code",
      "metadata": {
        "id": "I6DQOR2LbmMB",
        "colab_type": "code",
        "outputId": "1526e097-ec22-49d2-94ae-c9de944bd7f4",
        "colab": {
          "base_uri": "https://localhost:8080/",
          "height": 34
        }
      },
      "source": [
        "evaluator_test = RegressionEvaluator(\n",
        "    labelCol=\"label\", predictionCol=\"prediction\", metricName=\"rmse\")\n",
        "rmse = evaluator_test.evaluate(preds_test)\n",
        "print(\"Root Mean Squared Error (RMSE) on test data = %g\" % rmse)"
      ],
      "execution_count": 99,
      "outputs": [
        {
          "output_type": "stream",
          "text": [
            "Root Mean Squared Error (RMSE) on test data = 49.8281\n"
          ],
          "name": "stdout"
        }
      ]
    },
    {
      "cell_type": "code",
      "metadata": {
        "id": "7rKRFABs4JY9",
        "colab_type": "code",
        "outputId": "9ff7b390-319a-4114-c1bf-1461a65052c5",
        "colab": {
          "base_uri": "https://localhost:8080/",
          "height": 34
        }
      },
      "source": [
        "evaluator_test = RegressionEvaluator(\n",
        "    labelCol=\"label\", predictionCol=\"prediction\", metricName=\"r2\")\n",
        "r2 = evaluator_test.evaluate(preds_test)\n",
        "print(\"R square on data = %g\" % r2)"
      ],
      "execution_count": 100,
      "outputs": [
        {
          "output_type": "stream",
          "text": [
            "R square on data = 0.519719\n"
          ],
          "name": "stdout"
        }
      ]
    },
    {
      "cell_type": "markdown",
      "metadata": {
        "id": "eCCK9l2Yl3DT",
        "colab_type": "text"
      },
      "source": [
        "### PLOTS "
      ]
    },
    {
      "cell_type": "code",
      "metadata": {
        "id": "vPFUStxIH4i6",
        "colab_type": "code",
        "colab": {}
      },
      "source": [
        "import matplotlib.pyplot as plt"
      ],
      "execution_count": 0,
      "outputs": []
    },
    {
      "cell_type": "code",
      "metadata": {
        "id": "iyk5i6X9H_uz",
        "colab_type": "code",
        "outputId": "831abc4b-b536-4dd4-cf7a-5f71a5151cb5",
        "colab": {
          "base_uri": "https://localhost:8080/",
          "height": 277
        }
      },
      "source": [
        "trans5.columns"
      ],
      "execution_count": 0,
      "outputs": [
        {
          "output_type": "execute_result",
          "data": {
            "text/plain": [
              "['id',\n",
              " 'accommodates',\n",
              " 'bedrooms',\n",
              " 'beds',\n",
              " 'price',\n",
              " 'availability_30',\n",
              " 'review_scores_rating',\n",
              " 'reviews_per_month',\n",
              " 'instant_bookable_idx',\n",
              " 'neighbourhood_cleansed_idx',\n",
              " 'room_type_idx',\n",
              " 'cancellation_policy_idx',\n",
              " 'neighbourhood_cleansed_vec',\n",
              " 'room_type_vec',\n",
              " 'cancellation_policy_vec']"
            ]
          },
          "metadata": {
            "tags": []
          },
          "execution_count": 146
        }
      ]
    },
    {
      "cell_type": "code",
      "metadata": {
        "id": "KdgAZuz6IXJx",
        "colab_type": "code",
        "outputId": "bc74dc86-1717-4fe3-a1f8-0d61ee8f60f9",
        "colab": {
          "base_uri": "https://localhost:8080/",
          "height": 35
        }
      },
      "source": [
        "trans5.select('accommodates')"
      ],
      "execution_count": 0,
      "outputs": [
        {
          "output_type": "execute_result",
          "data": {
            "text/plain": [
              "DataFrame[accommodates: int]"
            ]
          },
          "metadata": {
            "tags": []
          },
          "execution_count": 152
        }
      ]
    },
    {
      "cell_type": "code",
      "metadata": {
        "id": "wVzoZ1GeH4fk",
        "colab_type": "code",
        "colab": {}
      },
      "source": [
        "trans5_pandas= trans5.toPandas()"
      ],
      "execution_count": 0,
      "outputs": []
    },
    {
      "cell_type": "code",
      "metadata": {
        "id": "eXVOHK2jVWF5",
        "colab_type": "code",
        "colab": {}
      },
      "source": [
        "from pandas import ExcelWriter\n",
        "\n",
        "writer = ExcelWriter('PythonExport.xlsx')\n",
        "trans5_pandas.to_excel(writer,'Sheet5')\n",
        "writer.save()"
      ],
      "execution_count": 0,
      "outputs": []
    },
    {
      "cell_type": "code",
      "metadata": {
        "id": "X4vrg7A5N1Bd",
        "colab_type": "code",
        "outputId": "ef801fc3-e6b9-4c2a-8882-a18e5e1a13bc",
        "colab": {
          "base_uri": "https://localhost:8080/",
          "height": 295
        }
      },
      "source": [
        "trans5_pandas.dtypes"
      ],
      "execution_count": 0,
      "outputs": [
        {
          "output_type": "execute_result",
          "data": {
            "text/plain": [
              "id                             object\n",
              "accommodates                    int32\n",
              "bedrooms                        int32\n",
              "beds                            int32\n",
              "price                         float64\n",
              "availability_30                 int32\n",
              "review_scores_rating            int32\n",
              "reviews_per_month               int32\n",
              "instant_bookable_idx          float64\n",
              "neighbourhood_cleansed_idx    float64\n",
              "room_type_idx                 float64\n",
              "cancellation_policy_idx       float64\n",
              "neighbourhood_cleansed_vec     object\n",
              "room_type_vec                  object\n",
              "cancellation_policy_vec        object\n",
              "dtype: object"
            ]
          },
          "metadata": {
            "tags": []
          },
          "execution_count": 171
        }
      ]
    },
    {
      "cell_type": "code",
      "metadata": {
        "id": "fA8ofW4wK6Q6",
        "colab_type": "code",
        "outputId": "cf755fd0-e015-4041-d8bc-2d26e4fec269",
        "colab": {
          "base_uri": "https://localhost:8080/",
          "height": 1615
        }
      },
      "source": [
        "ax = trans5_pandas.plot(kind=\"scatter\", y=\"accommodates\",x=\"price\", color=\"b\", label=\"price vs. accommodates\")\n",
        "\n",
        "ay=trans5_pandas.plot(kind=\"scatter\",x=\"bedrooms\",y=\"price\", color=\"r\", label=\"price vs. bedrooms\")\n",
        "az=trans5_pandas.plot( kind=\"scatter\",y=\"beds\",x=\"price\", color=\"g\", label=\"price vs beds\")\n",
        "aa=trans5_pandas.plot( kind=\"scatter\",y=\"availability_30\",x=\"price\", color=\"orange\", label=\"availability vs price\")\n",
        "ab=trans5_pandas.plot( kind=\"scatter\",y=\"review_scores_rating\",x=\"price\", color=\"purple\", label=\"reviews_scores_rating vs price\")\n",
        "ac=trans5_pandas.plot( kind=\"scatter\",y=\"reviews_per_month\",x=\"price\", color=\"g\", label=\"price vs reviews_per_month\")\n",
        "\n",
        "\n",
        "\n",
        "ax.set_ylabel(\"accomadates\")\n",
        "ax.set_xlabel(\"price\")\n",
        "ay.set_ylabel(\"bedrooms\")\n",
        "ay.set_xlabel(\"price\")\n",
        "az.set_xlabel(\"price\")\n",
        "az.set_ylabel(\"beds\")\n",
        "aa.set_ylabel(\"availability_30\")\n",
        "aa.set_xlabel(\"price\")\n",
        "ab.set_ylabel(\"review_scores_rating\")\n",
        "ab.set_xlabel(\"price\")\n",
        "ac.set_ylabel(\"reviews_per_month\")\n",
        "ac.set_xlabel(\"price\")\n",
        "plt.show()\n"
      ],
      "execution_count": 0,
      "outputs": [
        {
          "output_type": "display_data",
          "data": {
            "image/png": "[encoded data removed]",
            "text/plain": [
              "<Figure size 432x288 with 1 Axes>"
            ]
          },
          "metadata": {
            "tags": []
          }
        },
        {
          "output_type": "display_data",
          "data": {
            "image/png": "[encoded data removed]",
            "text/plain": [
              "<Figure size 432x288 with 1 Axes>"
            ]
          },
          "metadata": {
            "tags": []
          }
        },
        {
          "output_type": "display_data",
          "data": {
            "image/png": "[encoded data removed]",
            "text/plain": [
              "<Figure size 432x288 with 1 Axes>"
            ]
          },
          "metadata": {
            "tags": []
          }
        },
        {
          "output_type": "display_data",
          "data": {
            "image/png": "[encoded data removed]",
            "text/plain": [
              "<Figure size 432x288 with 1 Axes>"
            ]
          },
          "metadata": {
            "tags": []
          }
        },
        {
          "output_type": "display_data",
          "data": {
            "image/png": "[encoded data removed]",
            "text/plain": [
              "<Figure size 432x288 with 1 Axes>"
            ]
          },
          "metadata": {
            "tags": []
          }
        },
        {
          "output_type": "display_data",
          "data": {
            "image/png": "[encoded data removed]",
            "text/plain": [
              "<Figure size 432x288 with 1 Axes>"
            ]
          },
          "metadata": {
            "tags": []
          }
        }
      ]
    }
  ]
}